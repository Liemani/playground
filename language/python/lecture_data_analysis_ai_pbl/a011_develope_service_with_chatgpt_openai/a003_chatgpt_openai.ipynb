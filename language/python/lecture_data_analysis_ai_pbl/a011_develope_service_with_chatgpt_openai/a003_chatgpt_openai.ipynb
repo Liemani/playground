{
 "cells": [
  {
   "cell_type": "code",
   "execution_count": 9,
   "id": "9057d031-6b27-4bb9-8343-effd5e29c747",
   "metadata": {
    "scrolled": true
   },
   "outputs": [
    {
     "name": "stdout",
     "output_type": "stream",
     "text": [
      "Speak something...\n",
      "You said: hello speak something sorry I couldn't understand the audio sorry there was an error with the speech recognition service\n"
     ]
    }
   ],
   "source": [
    "import speech_recognition as sr\n",
    "\n",
    "def speech_to_text():\n",
    "    recognizer = sr.Recognizer()\n",
    "\n",
    "    # Capture audio from the microphone\n",
    "    with sr.Microphone() as source:\n",
    "        print(\"Speak something...\")\n",
    "        recognizer.adjust_for_ambient_noise(source)  # Adjust for ambient noise\n",
    "        audio = recognizer.listen(source)\n",
    "\n",
    "    try:\n",
    "        # Recognize speech using Google Speech Recognition\n",
    "        text = recognizer.recognize_google(audio, language=\"en-US\")\n",
    "        return text\n",
    "    except sr.UnknownValueError:\n",
    "        return \"Sorry, I couldn't understand the audio.\"\n",
    "    except sr.RequestError:\n",
    "        return \"Sorry, there was an error with the speech recognition service.\"\n",
    "\n",
    "# Convert speech to text\n",
    "recognized_text = speech_to_text()\n",
    "print(\"You said:\", recognized_text)"
   ]
  },
  {
   "cell_type": "code",
   "execution_count": 8,
   "id": "347b05ea-f205-4dd2-ba25-b48aeb1ef033",
   "metadata": {},
   "outputs": [
    {
     "name": "stdout",
     "output_type": "stream",
     "text": [
      "open language say to text recognize your speech recognition recognition with speech recognition microphone and the source audio resource recognizer releasing Source try text recognize recognize Google audio print tax except speech recognition known as Prince\n"
     ]
    }
   ],
   "source": [
    "import speech_recognition\n",
    "\n",
    "def speech_to_text():\n",
    "  \"\"\"Converts spoken language to text.\"\"\"\n",
    "\n",
    "  recognizer = speech_recognition.Recognizer()\n",
    "\n",
    "  with speech_recognition.Microphone() as source:\n",
    "    audio = recognizer.listen(source)\n",
    "\n",
    "  try:\n",
    "    text = recognizer.recognize_google(audio)\n",
    "    print(text)\n",
    "  except speech_recognition.UnknownValueError:\n",
    "    print(\"Could not recognize speech.\")\n",
    "  except speech_recognition.RequestError as e:\n",
    "    print(f\"Could not transcribe audio: {e}\")\n",
    "\n",
    "if __name__ == \"__main__\":\n",
    "  speech_to_text()"
   ]
  },
  {
   "cell_type": "code",
   "execution_count": null,
   "id": "a4cbb70b-734e-4cbf-a390-82de6caff2f1",
   "metadata": {},
   "outputs": [],
   "source": []
  },
  {
   "cell_type": "code",
   "execution_count": null,
   "id": "f67bffa5-eca3-4e7e-a71f-02a9e098fdc7",
   "metadata": {},
   "outputs": [],
   "source": []
  }
 ],
 "metadata": {
  "kernelspec": {
   "display_name": "sj_env_02_kernel",
   "language": "python",
   "name": "sj_env_02"
  },
  "language_info": {
   "codemirror_mode": {
    "name": "ipython",
    "version": 3
   },
   "file_extension": ".py",
   "mimetype": "text/x-python",
   "name": "python",
   "nbconvert_exporter": "python",
   "pygments_lexer": "ipython3",
   "version": "3.9.18"
  }
 },
 "nbformat": 4,
 "nbformat_minor": 5
}

{
 "cells": [
  {
   "cell_type": "code",
   "execution_count": 1,
   "id": "03118e76-d3f6-40d9-88ba-f42a786651e6",
   "metadata": {},
   "outputs": [
    {
     "name": "stdout",
     "output_type": "stream",
     "text": [
      "Sum of the range from 1 to 10: 55\n"
     ]
    }
   ],
   "source": [
    "def calculate_sum_of_range(start, end):\n",
    "    total = 0\n",
    "    for num in range(start, end + 1):\n",
    "        total += num\n",
    "    return total\n",
    "\n",
    "# Calculate the sum of the range from 1 to 10\n",
    "result = calculate_sum_of_range(1, 10)\n",
    "print(\"Sum of the range from 1 to 10:\", result)"
   ]
  },
  {
   "cell_type": "code",
   "execution_count": 3,
   "id": "5f703be8-e2d8-4439-ad77-0e86dd110e96",
   "metadata": {},
   "outputs": [
    {
     "name": "stdout",
     "output_type": "stream",
     "text": [
      "  1   2   3   4   5   6   7   8   9  10 \n",
      "  2   4   6   8  10  12  14  16  18  20 \n",
      "  3   6   9  12  15  18  21  24  27  30 \n",
      "  4   8  12  16  20  24  28  32  36  40 \n",
      "  5  10  15  20  25  30  35  40  45  50 \n",
      "  6  12  18  24  30  36  42  48  54  60 \n",
      "  7  14  21  28  35  42  49  56  63  70 \n",
      "  8  16  24  32  40  48  56  64  72  80 \n",
      "  9  18  27  36  45  54  63  72  81  90 \n",
      " 10  20  30  40  50  60  70  80  90 100 \n"
     ]
    }
   ],
   "source": [
    "def multiplication_table(limit):\n",
    "    for i in range(1, limit + 1):\n",
    "        for j in range(1, limit + 1):\n",
    "            # Multiply i by j and print without newline\n",
    "            print(f\"{i * j:3}\", end=\" \")\n",
    "        print()  # Move to the next line for the next row\n",
    "\n",
    "# Generate a multiplication table up to a specified limit (e.g., 10)\n",
    "multiplication_table(10)"
   ]
  },
  {
   "cell_type": "code",
   "execution_count": 4,
   "id": "516e669b-5703-4266-8382-8c29baecea2a",
   "metadata": {},
   "outputs": [
    {
     "name": "stdout",
     "output_type": "stream",
     "text": [
      "1 * 1 =  1   |   1 * 2 =  2   |   1 * 3 =  3   |   1 * 4 =  4   |   1 * 5 =  5   |   1 * 6 =  6   |   1 * 7 =  7   |   1 * 8 =  8   |   1 * 9 =  9   |   1 * 10 = 10   |   \n",
      "------------------------------------------------------------\n",
      "2 * 1 =  2   |   2 * 2 =  4   |   2 * 3 =  6   |   2 * 4 =  8   |   2 * 5 = 10   |   2 * 6 = 12   |   2 * 7 = 14   |   2 * 8 = 16   |   2 * 9 = 18   |   2 * 10 = 20   |   \n",
      "------------------------------------------------------------\n",
      "3 * 1 =  3   |   3 * 2 =  6   |   3 * 3 =  9   |   3 * 4 = 12   |   3 * 5 = 15   |   3 * 6 = 18   |   3 * 7 = 21   |   3 * 8 = 24   |   3 * 9 = 27   |   3 * 10 = 30   |   \n",
      "------------------------------------------------------------\n",
      "4 * 1 =  4   |   4 * 2 =  8   |   4 * 3 = 12   |   4 * 4 = 16   |   4 * 5 = 20   |   4 * 6 = 24   |   4 * 7 = 28   |   4 * 8 = 32   |   4 * 9 = 36   |   4 * 10 = 40   |   \n",
      "------------------------------------------------------------\n",
      "5 * 1 =  5   |   5 * 2 = 10   |   5 * 3 = 15   |   5 * 4 = 20   |   5 * 5 = 25   |   5 * 6 = 30   |   5 * 7 = 35   |   5 * 8 = 40   |   5 * 9 = 45   |   5 * 10 = 50   |   \n",
      "------------------------------------------------------------\n",
      "6 * 1 =  6   |   6 * 2 = 12   |   6 * 3 = 18   |   6 * 4 = 24   |   6 * 5 = 30   |   6 * 6 = 36   |   6 * 7 = 42   |   6 * 8 = 48   |   6 * 9 = 54   |   6 * 10 = 60   |   \n",
      "------------------------------------------------------------\n",
      "7 * 1 =  7   |   7 * 2 = 14   |   7 * 3 = 21   |   7 * 4 = 28   |   7 * 5 = 35   |   7 * 6 = 42   |   7 * 7 = 49   |   7 * 8 = 56   |   7 * 9 = 63   |   7 * 10 = 70   |   \n",
      "------------------------------------------------------------\n",
      "8 * 1 =  8   |   8 * 2 = 16   |   8 * 3 = 24   |   8 * 4 = 32   |   8 * 5 = 40   |   8 * 6 = 48   |   8 * 7 = 56   |   8 * 8 = 64   |   8 * 9 = 72   |   8 * 10 = 80   |   \n",
      "------------------------------------------------------------\n",
      "9 * 1 =  9   |   9 * 2 = 18   |   9 * 3 = 27   |   9 * 4 = 36   |   9 * 5 = 45   |   9 * 6 = 54   |   9 * 7 = 63   |   9 * 8 = 72   |   9 * 9 = 81   |   9 * 10 = 90   |   \n",
      "------------------------------------------------------------\n",
      "10 * 1 = 10   |   10 * 2 = 20   |   10 * 3 = 30   |   10 * 4 = 40   |   10 * 5 = 50   |   10 * 6 = 60   |   10 * 7 = 70   |   10 * 8 = 80   |   10 * 9 = 90   |   10 * 10 = 100   |   \n",
      "------------------------------------------------------------\n"
     ]
    }
   ],
   "source": [
    "def multiplication_table(limit):\n",
    "    for i in range(1, limit + 1):\n",
    "        for j in range(1, limit + 1):\n",
    "            result = i * j\n",
    "            print(f\"{i} * {j} = {result:2}\", end=\"   |   \")\n",
    "        print(\"\\n\" + \"-\" * 60)  # Separate rows for better visibility\n",
    "\n",
    "# Generate a multiplication table up to a specified limit (e.g., 10)\n",
    "multiplication_table(10)"
   ]
  },
  {
   "cell_type": "code",
   "execution_count": 12,
   "id": "0074939a-adb4-4b5a-89b4-1466e510fd64",
   "metadata": {},
   "outputs": [],
   "source": [
    "from gtts import gTTS\n",
    "\n",
    "def text_to_speech(text, language='en'):\n",
    "    build_mp3()\n",
    "    speech = gTTS(text=text, lang=language)\n",
    "    mp3_path = \"./mp3/text_to_speech.mp3\"\n",
    "    speech.save(mp3_path)"
   ]
  },
  {
   "cell_type": "code",
   "execution_count": 10,
   "id": "73f2da0f-bde0-4710-a48c-a4ee4ccd7af5",
   "metadata": {},
   "outputs": [],
   "source": [
    "import os\n",
    "\n",
    "def build_mp3() :\n",
    "    if not os.path.exists(\"mp3\") :\n",
    "        os.makedirs(\"mp3\")"
   ]
  },
  {
   "cell_type": "code",
   "execution_count": 13,
   "id": "173ec8dc-4965-4935-98c4-1a0ec6e000bf",
   "metadata": {},
   "outputs": [],
   "source": [
    "text = \"Hello! This is a text-to-speech demonstration using Python.\"\n",
    "text_to_speech(text)"
   ]
  },
  {
   "cell_type": "code",
   "execution_count": 17,
   "id": "d90986ba-acc1-4867-9a99-ec8f67beeb39",
   "metadata": {},
   "outputs": [],
   "source": [
    "import pyttsx3\n",
    "\n",
    "def text_to_speech(text, rate=150):\n",
    "    engine = pyttsx3.init('dummy')\n",
    "    engine.setProperty('rate', rate)  # Adjust speech rate (words per minute)\n",
    "\n",
    "    engine.say(text)\n",
    "    engine.runAndWait()\n",
    "\n",
    "# Example text to convert to speech\n",
    "text = \"Hello! This is a text-to-speech demonstration using Python.\"\n",
    "\n",
    "# Convert the text to speech and play it\n",
    "text_to_speech(text)"
   ]
  },
  {
   "cell_type": "code",
   "execution_count": 20,
   "id": "3e40ac1e-c9b1-400c-9ffc-dae9bf4dfaee",
   "metadata": {},
   "outputs": [
    {
     "name": "stdout",
     "output_type": "stream",
     "text": [
      "[영문 원본] --------\n",
      "The grass is always greener.\n",
      "Kill two birds with one stone.\n",
      "No Pain, no gain.\n",
      "Blood is thicker than water.\n",
      "\n",
      "[한글 번역] --------\n",
      "잔디는 항상 더 녹색입니다.\n",
      "하나의 돌로 두 마리의 새를 죽입니다.\n",
      "고통이 없으면 얻는 것도 없다.\n",
      "피는 물보다 진하다.\n"
     ]
    }
   ],
   "source": [
    "from googletrans import Translator\n",
    "\n",
    "eng_file = \"./data/eng.txt\"\n",
    "kor_file = \"./data/kor.txt\"\n",
    "\n",
    "translator = Translator()\n",
    "\n",
    "try :\n",
    "    with open(eng_file, \"r\", encoding = \"utf-8\") as eng_file :\n",
    "        eng_text = eng_file.read()\n",
    "    print(f\"[영문 원본] --------\\n{eng_text}\")\n",
    "    kor_translation = translator.translate(eng_text, src = \"en\", dest = \"ko\")\n",
    "    print(f\"[한글 번역] --------\\n{kor_translation.text}\")\n",
    "    with open(kor_file, \"w\", encoding=\"utf-8\") as kor_file :\n",
    "        kor_file.write(kor_translation.text)\n",
    "except Exception as e :\n",
    "    print(f\"오류 발생 : {str(e)}\")"
   ]
  },
  {
   "cell_type": "code",
   "execution_count": 23,
   "id": "42a2f8e0-6d54-4a1f-bf46-02178c2acd73",
   "metadata": {},
   "outputs": [],
   "source": [
    "import subprocess\n",
    "\n",
    "def send_mac_notification(title, message):\n",
    "    # AppleScript command for displaying a notification\n",
    "    applescript = f'display notification \"{message}\" with title \"{title}\"'\n",
    "\n",
    "    # Execute the AppleScript command using osascript\n",
    "    subprocess.run(['osascript', '-e', applescript])\n",
    "\n",
    "# Example title and message for the notification\n",
    "notification_title = \"Alert\"\n",
    "notification_message = \"This is a notification from Python!\"\n",
    "\n",
    "# Send the notification\n",
    "send_mac_notification(notification_title, notification_message)"
   ]
  },
  {
   "cell_type": "code",
   "execution_count": 28,
   "id": "68a5351b-bcff-426d-b001-b062e48ff4c9",
   "metadata": {},
   "outputs": [
    {
     "name": "stdout",
     "output_type": "stream",
     "text": [
      "Current day: Saturday\n",
      "Current day_number: 28\n",
      "Current hour: 16\n",
      "Current minute: 4\n",
      "Current date: 2023-10-28 16:04:29.455553\n"
     ]
    }
   ],
   "source": [
    "from datetime import datetime\n",
    "\n",
    "# Get the current date and time\n",
    "current_datetime = datetime.now()\n",
    "\n",
    "# Extract day, hour, and minute from the current datetime\n",
    "day = current_datetime.strftime(\"%A\")  # Get the full name of the day (e.g., Monday)\n",
    "day_number = current_datetime.day\n",
    "hour = current_datetime.hour  # Get the current hour (in 24-hour format)\n",
    "minute = current_datetime.minute  # Get the current minute\n",
    "current_datetime.isocalendar()[1]\n",
    "\n",
    "# Print the obtained information\n",
    "print(\"Current day:\", day)\n",
    "print(\"Current day_number:\", day_number)\n",
    "print(\"Current hour:\", hour)\n",
    "print(\"Current minute:\", minute)\n",
    "print(\"Current date:\", current_datetime)"
   ]
  },
  {
   "cell_type": "code",
   "execution_count": 31,
   "id": "776708d5-fa6a-447e-99ff-01c578c1d780",
   "metadata": {},
   "outputs": [
    {
     "ename": "SyntaxError",
     "evalue": "invalid syntax (3598066497.py, line 16)",
     "output_type": "error",
     "traceback": [
      "\u001b[0;36m  Cell \u001b[0;32mIn[31], line 16\u001b[0;36m\u001b[0m\n\u001b[0;31m    .generate_from_frequencies(count)\u001b[0m\n\u001b[0m    ^\u001b[0m\n\u001b[0;31mSyntaxError\u001b[0m\u001b[0;31m:\u001b[0m invalid syntax\n"
     ]
    }
   ],
   "source": [
    "from konlpy.tag import Okt\n",
    "from collections import Counter\n",
    "from wordcloud import WordCloud\n",
    "import matplotlib.pyplot as plt\n",
    "\n",
    "def generate_word_cloud(text):\n",
    "    # Tokenize the text using Okt (Open Korean Text) from konlpy\n",
    "    okt = Okt()\n",
    "    nouns = okt.nouns(text)\n",
    "    \n",
    "    # Count the frequency of words\n",
    "    count = Counter(nouns)\n",
    "    \n",
    "    # Generate word cloud\n",
    "    wordcloud = WordCloud(font_path='AppleGothic', background_color='white').generate_from_frequencies(count)\n",
    "    \n",
    "    # Display the word cloud using matplotlib\n",
    "    plt.figure(figsize=(10, 8))\n",
    "    plt.imshow(wordcloud, interpolation='bilinear')\n",
    "    plt.axis('off')\n",
    "    plt.show()\n",
    "\n",
    "# Example text - replace this with your Korean text\n",
    "korean_text = \"여기에 당신의 한국어 텍스트를 입력하세요.\"\n",
    "\n",
    "# Generate the word cloud\n",
    "generate_word_cloud(korean_text)\n"
   ]
  },
  {
   "cell_type": "code",
   "execution_count": 32,
   "id": "7b1060d4-4a33-4f4b-a1a0-1ab0f10d41c6",
   "metadata": {},
   "outputs": [
    {
     "name": "stdout",
     "output_type": "stream",
     "text": [
      "Random string: d9hz32u3Lx8e\n"
     ]
    }
   ],
   "source": [
    "import random\n",
    "import string\n",
    "\n",
    "def generate_random_string(length=12):\n",
    "    characters = string.ascii_letters + string.digits  # Includes uppercase and lowercase letters, and digits\n",
    "    return ''.join(random.choice(characters) for _ in range(length))\n",
    "\n",
    "# Generate a 12-character random string\n",
    "random_string = generate_random_string()\n",
    "print(\"Random string:\", random_string)\n"
   ]
  },
  {
   "cell_type": "code",
   "execution_count": 33,
   "id": "9fce2602-1b8b-40c6-b92a-a2e5b945d492",
   "metadata": {},
   "outputs": [
    {
     "name": "stdout",
     "output_type": "stream",
     "text": [
      "Accuracy of the Decision Tree model: 1.00\n"
     ]
    }
   ],
   "source": [
    "from sklearn.datasets import load_iris\n",
    "from sklearn.model_selection import train_test_split\n",
    "from sklearn.tree import DecisionTreeClassifier\n",
    "from sklearn.metrics import accuracy_score\n",
    "\n",
    "# Load the Iris dataset\n",
    "iris = load_iris()\n",
    "X, y = iris.data, iris.target\n",
    "\n",
    "# Split the dataset into training and test sets (80% - 20%)\n",
    "X_train, X_test, y_train, y_test = train_test_split(X, y, test_size=0.2, random_state=42)\n",
    "\n",
    "# Create a Decision Tree classifier\n",
    "clf = DecisionTreeClassifier()\n",
    "\n",
    "# Train the classifier on the training data\n",
    "clf.fit(X_train, y_train)\n",
    "\n",
    "# Make predictions on the test set\n",
    "y_pred = clf.predict(X_test)\n",
    "\n",
    "# Calculate the accuracy of the model\n",
    "accuracy = accuracy_score(y_test, y_pred)\n",
    "print(f\"Accuracy of the Decision Tree model: {accuracy:.2f}\")"
   ]
  },
  {
   "cell_type": "code",
   "execution_count": 34,
   "id": "10c3e0f9-fc87-49c1-866c-3d15394f07fa",
   "metadata": {},
   "outputs": [
    {
     "name": "stdout",
     "output_type": "stream",
     "text": [
      "Accuracy scores for each fold:\n",
      "Fold 1: 0.9667\n",
      "Fold 2: 0.9667\n",
      "Fold 3: 0.9000\n",
      "Fold 4: 1.0000\n",
      "Fold 5: 1.0000\n",
      "\n",
      "Mean accuracy across all folds: 0.9667\n"
     ]
    }
   ],
   "source": [
    "from sklearn.datasets import load_iris\n",
    "from sklearn.model_selection import cross_val_score\n",
    "from sklearn.tree import DecisionTreeClassifier\n",
    "\n",
    "# Load the Iris dataset\n",
    "iris = load_iris()\n",
    "X, y = iris.data, iris.target\n",
    "\n",
    "# Create a Decision Tree classifier\n",
    "clf = DecisionTreeClassifier()\n",
    "\n",
    "# Perform cross-validation with 5 folds\n",
    "scores = cross_val_score(clf, X, y, cv=5)\n",
    "\n",
    "# Display the accuracy scores for each fold\n",
    "print(\"Accuracy scores for each fold:\")\n",
    "for i, score in enumerate(scores, start=1):\n",
    "    print(f\"Fold {i}: {score:.4f}\")\n",
    "\n",
    "# Calculate and print the mean accuracy\n",
    "mean_accuracy = scores.mean()\n",
    "print(f\"\\nMean accuracy across all folds: {mean_accuracy:.4f}\")\n"
   ]
  },
  {
   "cell_type": "code",
   "execution_count": null,
   "id": "94bed5d3-f31f-47d8-ad1a-bd8149fb6eb1",
   "metadata": {},
   "outputs": [],
   "source": []
  }
 ],
 "metadata": {
  "kernelspec": {
   "display_name": "sj_env_02_kernel",
   "language": "python",
   "name": "sj_env_02"
  },
  "language_info": {
   "codemirror_mode": {
    "name": "ipython",
    "version": 3
   },
   "file_extension": ".py",
   "mimetype": "text/x-python",
   "name": "python",
   "nbconvert_exporter": "python",
   "pygments_lexer": "ipython3",
   "version": "3.9.18"
  }
 },
 "nbformat": 4,
 "nbformat_minor": 5
}
